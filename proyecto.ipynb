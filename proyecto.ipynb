{
 "cells": [
  {
   "cell_type": "code",
   "execution_count": 8,
   "metadata": {},
   "outputs": [],
   "source": [
    "sueldos = (10576, 2000, 6000, 9000, 11000, 19000, 32000, 60000, 80000, 200000, 300000)\n",
    "def rango_imp(sueldo):\n",
    "    for sueldo in sueldos:\n",
    "        if 0.01 <= sueldo <= 578.52:\n",
    "            impuesto =(sueldo - 0.01) * 0.0192 + 0\n",
    "            sueldo_neto = sueldo - impuesto\n",
    "        elif 578.53 <= sueldo <= 4910.18:\n",
    "            impuesto =(sueldo - 578.53) * 0.064 + 11.11\n",
    "            sueldo_neto = sueldo - impuesto\n",
    "        elif 4910.19 <= sueldo <= 8629.20:\n",
    "            impuesto =(sueldo - 4910.19) * 0.1088 + 288.33\n",
    "            sueldo_neto = sueldo - impuesto\n",
    "        elif 8629.21 <= sueldo <= 10031.07:\n",
    "            impuesto =(sueldo - 8629.21) * 0.16 + 692.96\n",
    "            sueldo_neto = sueldo - impuesto\n",
    "        elif 10031.08 <= sueldo <= 12009.94:\n",
    "            impuesto =(sueldo - 10031.08) * 0.1792 + 917.26\n",
    "            sueldo_neto = sueldo - impuesto\n",
    "        elif 12009.95 <= sueldo <= 24222.31:\n",
    "            impuesto =(sueldo - 12009.95) * 0.2136 + 1271.87\n",
    "            sueldo_neto = sueldo - impuesto\n",
    "        elif 24222.32 <= sueldo <= 38177.69:\n",
    "            impuesto =(sueldo - 24222.32) * 0.2352 + 3880.44\n",
    "            sueldo_neto = sueldo - impuesto\n",
    "        elif 38177.70 <= sueldo <= 72887.50:\n",
    "            impuesto =(sueldo - 38177.70) * 0.3 + 7162.74\n",
    "            sueldo_neto = sueldo - impuesto\n",
    "        elif 72887.51 <= sueldo <= 97183.33:\n",
    "            impuesto =(sueldo - 72887.51) * 0.32 + 17575.69\n",
    "            sueldo_neto = sueldo - impuesto\n",
    "        elif 97183.34 <= sueldo <= 291550.00:\n",
    "            impuesto =(sueldo - 97183.34) * 0.34 + 25350.35\n",
    "            sueldo_neto = sueldo - impuesto\n",
    "        elif sueldo >= 291550.01:\n",
    "            impuesto = (sueldo - 291550.01) * 0.35 + 91435.02\n",
    "            sueldo_neto = sueldo - impuesto\n",
    "        return (f\"tu sueldo neto es de {sueldo_neto}\")"
   ]
  },
  {
   "cell_type": "code",
   "execution_count": 9,
   "metadata": {},
   "outputs": [
    {
     "data": {
      "text/plain": [
       "'tu sueldo neto es de 9561.090336'"
      ]
     },
     "execution_count": 9,
     "metadata": {},
     "output_type": "execute_result"
    }
   ],
   "source": [
    "rango_imp(300000)"
   ]
  },
  {
   "cell_type": "code",
   "execution_count": 10,
   "metadata": {},
   "outputs": [
    {
     "data": {
      "text/plain": [
       "'tu sueldo neto es de 9561.090336'"
      ]
     },
     "execution_count": 10,
     "metadata": {},
     "output_type": "execute_result"
    }
   ],
   "source": [
    "rango_imp(10576)"
   ]
  },
  {
   "cell_type": "code",
   "execution_count": 11,
   "metadata": {},
   "outputs": [
    {
     "data": {
      "text/plain": [
       "'tu sueldo neto es de 9561.090336'"
      ]
     },
     "execution_count": 11,
     "metadata": {},
     "output_type": "execute_result"
    }
   ],
   "source": [
    "rango_imp(sueldos)"
   ]
  },
  {
   "cell_type": "code",
   "execution_count": 12,
   "metadata": {},
   "outputs": [],
   "source": [
    "import matplotlib.pyplot as plt"
   ]
  },
  {
   "cell_type": "code",
   "execution_count": 13,
   "metadata": {},
   "outputs": [],
   "source": [
    "from pydataset import data"
   ]
  },
  {
   "cell_type": "code",
   "execution_count": 14,
   "metadata": {},
   "outputs": [],
   "source": [
    "import numpy as np"
   ]
  },
  {
   "cell_type": "code",
   "execution_count": 16,
   "metadata": {},
   "outputs": [
    {
     "data": {
      "text/plain": [
       "[<matplotlib.lines.Line2D at 0xd1083264a8>]"
      ]
     },
     "execution_count": 16,
     "metadata": {},
     "output_type": "execute_result"
    },
    {
     "data": {
      "image/png": "[encoded data removed]",
      "text/plain": [
       "<Figure size 432x288 with 1 Axes>"
      ]
     },
     "metadata": {},
     "output_type": "display_data"
    }
   ],
   "source": [
    "sueldos = (10576, 2000, 6000, 9000, 11000, 19000, 32000, 60000, 80000, 200000, 300000)\n",
    "np.array(sueldos)\n",
    "plt.plot(np.array(sueldos))"
   ]
  },
  {
   "cell_type": "code",
   "execution_count": null,
   "metadata": {},
   "outputs": [],
   "source": []
  }
 ],
 "metadata": {
  "kernelspec": {
   "display_name": "Python 3",
   "language": "python",
   "name": "python3"
  },
  "language_info": {
   "codemirror_mode": {
    "name": "ipython",
    "version": 3
   },
   "file_extension": ".py",
   "mimetype": "text/x-python",
   "name": "python",
   "nbconvert_exporter": "python",
   "pygments_lexer": "ipython3",
   "version": "3.6.5"
  }
 },
 "nbformat": 4,
 "nbformat_minor": 2
}
