{
 "cells": [
  {
   "cell_type": "code",
   "execution_count": 60,
   "metadata": {},
   "outputs": [
    {
     "name": "stdout",
     "output_type": "stream",
     "text": [
      "Dame tu sueldo: 5000\n",
      "Dame tu sueldo: 85000\n",
      "Dame tu sueldo: 16000\n",
      "Dame tu sueldo: 25500\n",
      "Dame tu sueldo: 55000\n",
      "Dame tu sueldo: fin\n"
     ]
    },
    {
     "data": {
      "image/png": "[encoded data removed]",
      "text/plain": [
       "<Figure size 432x288 with 1 Axes>"
      ]
     },
     "metadata": {},
     "output_type": "display_data"
    },
    {
     "data": {
      "image/png": "[encoded data removed]",
      "text/plain": [
       "<Figure size 432x288 with 1 Axes>"
      ]
     },
     "metadata": {},
     "output_type": "display_data"
    },
    {
     "data": {
      "text/plain": [
       "{5000.0: 4701.898672,\n",
       " 85000.0: 63548.313200000004,\n",
       " 16000.0: 13875.85532,\n",
       " 25500.0: 21319.049664,\n",
       " 55000.0: 42790.57}"
      ]
     },
     "execution_count": 60,
     "metadata": {},
     "output_type": "execute_result"
    }
   ],
   "source": [
    "import matplotlib.pyplot as plt\n",
    "from pydataset import data\n",
    "import numpy as np\n",
    "\n",
    "def rango_imp(sueldo):\n",
    "    if 0.01 <= sueldo <= 578.52:\n",
    "        impuesto =(sueldo - 0.01) * 0.0192 + 0\n",
    "        sueldo_neto = sueldo - impuesto\n",
    "    elif 578.53 <= sueldo <= 4910.18:\n",
    "        impuesto =(sueldo - 578.53) * 0.064 + 11.11\n",
    "        sueldo_neto = sueldo - impuesto\n",
    "    elif 4910.19 <= sueldo <= 8629.20:\n",
    "        impuesto =(sueldo - 4910.19) * 0.1088 + 288.33\n",
    "        sueldo_neto = sueldo - impuesto\n",
    "    elif 8629.21 <= sueldo <= 10031.07:\n",
    "        impuesto =(sueldo - 8629.21) * 0.16 + 692.96\n",
    "        sueldo_neto = sueldo - impuesto\n",
    "    elif 10031.08 <= sueldo <= 12009.94:\n",
    "        impuesto =(sueldo - 10031.08) * 0.1792 + 917.26\n",
    "        sueldo_neto = sueldo - impuesto\n",
    "    elif 12009.95 <= sueldo <= 24222.31:\n",
    "        impuesto =(sueldo - 12009.95) * 0.2136 + 1271.87\n",
    "        sueldo_neto = sueldo - impuesto\n",
    "    elif 24222.32 <= sueldo <= 38177.69:\n",
    "        impuesto =(sueldo - 24222.32) * 0.2352 + 3880.44\n",
    "        sueldo_neto = sueldo - impuesto\n",
    "    elif 38177.70 <= sueldo <= 72887.50:\n",
    "        impuesto =(sueldo - 38177.70) * 0.3 + 7162.74\n",
    "        sueldo_neto = sueldo - impuesto\n",
    "    elif 72887.51 <= sueldo <= 97183.33:\n",
    "        impuesto =(sueldo - 72887.51) * 0.32 + 17575.69\n",
    "        sueldo_neto = sueldo - impuesto\n",
    "    elif 97183.34 <= sueldo <= 291550.00:\n",
    "        impuesto =(sueldo - 97183.34) * 0.34 + 25350.35\n",
    "        sueldo_neto = sueldo - impuesto\n",
    "    elif sueldo >= 291550.01:\n",
    "        impuesto = (sueldo - 291550.01) * 0.35 + 91435.02\n",
    "        sueldo_neto = sueldo - impuesto\n",
    "    return sueldo_neto\n",
    "\n",
    "usuarios={}\n",
    "sueldo=\"\"\n",
    "while True:\n",
    "    sueldo=input(\"Dame tu sueldo: \")\n",
    "    if sueldo != \"fin\":\n",
    "        sueldo=float(sueldo)\n",
    "        imp=rango_imp(sueldo)\n",
    "        usuarios[sueldo]=imp\n",
    "    else:\n",
    "        break\n",
    "        \n",
    "sueldos=np.array(sueldos)\n",
    "impuestos=list(rango_imp(sueldo)for sueldo in sueldos)\n",
    "plt.plot(sueldos,impuestos)\n",
    "sueldos.max()\n",
    "sueldos.min()\n",
    "\n",
    "fig = plt.figure(u'Gráfica de barras') \n",
    "ax = fig.add_subplot(111) \n",
    "datos = impuestos\n",
    "xx = range(len(sueldos))\n",
    "ax.bar(xx, datos, width=0.3)\n",
    "ax.set_xticks(xx)\n",
    "ax.set_xticklabels(sueldos)\n",
    "\n",
    "plt.show()\n",
    "\n",
    "\n",
    "usuarios"
   ]
  },
  {
   "cell_type": "code",
   "execution_count": null,
   "metadata": {},
   "outputs": [],
   "source": []
  }
 ],
 "metadata": {
  "kernelspec": {
   "display_name": "Python 3",
   "language": "python",
   "name": "python3"
  },
  "language_info": {
   "codemirror_mode": {
    "name": "ipython",
    "version": 3
   },
   "file_extension": ".py",
   "mimetype": "text/x-python",
   "name": "python",
   "nbconvert_exporter": "python",
   "pygments_lexer": "ipython3",
   "version": "3.6.5"
  }
 },
 "nbformat": 4,
 "nbformat_minor": 2
}
