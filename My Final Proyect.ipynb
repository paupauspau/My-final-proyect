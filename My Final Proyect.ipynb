{
 "cells": [
  {
   "cell_type": "code",
   "execution_count": 1,
   "metadata": {},
   "outputs": [],
   "source": [
    "def rango_imp(sueldo):\n",
    "    if 0.01<=sueldo<=578.52:\n",
    "        impuesto=0.0192\n",
    "    elif 578.53<=sueldo<=4910.18:\n",
    "        impuesto=0.064\n",
    "    elif 4910.19<=sueldo<=8629.20:\n",
    "        impuesto=0.1088\n",
    "    elif 8629.21<=sueldo<=10031.07:\n",
    "        impuesto=0.16\n",
    "    elif 10031.08<=sueldo<=12009.94:\n",
    "        impuesto=0.1792\n",
    "    elif 12009.95<=sueldo<=24222.31:\n",
    "        impuesto=0.2136\n",
    "    elif 24222.32<=sueldo<=38177.69:\n",
    "        impuesto=0.2352\n",
    "    elif 38177.70<=sueldo<=72887.50:\n",
    "        impuesto=0.3\n",
    "    elif 72887.51<=sueldo<=97183.33:\n",
    "        impuesto=0.32\n",
    "    elif 97183.34<=sueldo<=291550.00:\n",
    "        impuesto=0.34\n",
    "    elif sueldo>=291550.01:\n",
    "        impuesto=0.35\n",
    "    return (f\"tu impuesto es de {impuesto}\")"
   ]
  }
 ],
 "metadata": {
  "kernelspec": {
   "display_name": "Python 3",
   "language": "python",
   "name": "python3"
  },
  "language_info": {
   "codemirror_mode": {
    "name": "ipython",
    "version": 3
   },
   "file_extension": ".py",
   "mimetype": "text/x-python",
   "name": "python",
   "nbconvert_exporter": "python",
   "pygments_lexer": "ipython3",
   "version": "3.6.5"
  }
 },
 "nbformat": 4,
 "nbformat_minor": 2
}
