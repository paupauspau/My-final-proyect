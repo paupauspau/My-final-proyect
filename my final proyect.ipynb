{
 "cells": [
  {
   "cell_type": "code",
   "execution_count": null,
   "metadata": {},
   "outputs": [],
   "source": [
    "sueldo = int(input(\"tu sueldo: \"))\n",
    "if sueldo in range(0.01, 578.52):\n",
    "    print(f\"tu impuesto es de 1.92%\")\n",
    "elif sueldo in range(578.53, 4910.18): \n",
    "    print(f\"tu impuesto es de 6.40%\")\n",
    "elif sueldo in range(4910.19, 8629.20):\n",
    "    print(f\"tu impuesto es de 10.88%\")\n",
    "elif sueldo in range(8629.21, 10,031.07):\n",
    "    print(f\"tu impuesto es de 16.00%\")\n",
    "elif sueldo in range(10031.08, 12009.94):\n",
    "    print(f\"tu impuesto es de 17.92%\")\n",
    "elif sueldo in range(12009.95, 24222.31):\n",
    "    print(f\"tu impuesto es de 21.36%\")\n",
    "elif sueldo in range(24222.32, 38177.69):\n",
    "    print(f\"tu impuesto es de 23.52%\")\n",
    "elif sueldo in range(38177.70, 72887.50):\n",
    "    print(f\"tu impuesto es de 30.00%\")\n",
    "elif sueldo in range(72887.51, 97183.33):\n",
    "    print(f\"tu impuesto es de 32.00%\")\n",
    "elif sueldo in range(97183.34, 291550.00):\n",
    "    print(f\"tu impuesto es de 34.00%\")\n",
    "elif sueldo >=291550.01:\n",
    "    print(f\"tu impuesto es de 35.00%\")"
   ]
  },
  {
   "cell_type": "code",
   "execution_count": null,
   "metadata": {},
   "outputs": [],
   "source": []
  }
 ],
 "metadata": {
  "kernelspec": {
   "display_name": "Python 3",
   "language": "python",
   "name": "python3"
  }
 },
 "nbformat": 4,
 "nbformat_minor": 2
}
